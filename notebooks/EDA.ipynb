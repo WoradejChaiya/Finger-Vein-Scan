{
 "cells": [
  {
   "cell_type": "markdown",
   "id": "e66f8009",
   "metadata": {},
   "source": [
    "# EDA - Finger Vein Project (v5, Enhanced-Combined)\n",
    "\n",
    "ข้อมูลที่ใช้ใน EDA นี้มาจากโฟลเดอร์:\n",
    "```\n",
    "D:/Finger-Vein-Scan/data/Enhanced-Combined/\n",
    "```\n",
    "\n",
    "ไฟล์ CSV ที่ใช้อ่านข้อมูลคือ:\n",
    "```\n",
    "split_combined.csv\n",
    "```\n",
    "\n",
    "### เป้าหมาย:\n",
    "- ตรวจสอบจำนวนภาพและจำนวนคลาส (ID)\n",
    "- วิเคราะห์การกระจายของข้อมูลแต่ละชุด (train, val, test)\n",
    "- แสดงตัวอย่างภาพจากหลายคลาส\n",
    "- วิเคราะห์ความหลากหลายของ vein pattern ภายในและระหว่างคลาส\n"
   ]
  },
  {
   "cell_type": "code",
   "execution_count": null,
   "id": "9ba8d29b",
   "metadata": {},
   "outputs": [],
   "source": [
    "import pandas as pd\n",
    "import matplotlib.pyplot as plt\n",
    "import seaborn as sns\n",
    "import os\n",
    "from PIL import Image\n",
    "import random\n",
    "\n",
    "# โหลดข้อมูลจาก split_combined.csv\n",
    "df = pd.read_csv(\"split_combined.csv\")\n",
    "\n",
    "# ตรวจสอบข้อมูลเบื้องต้น\n",
    "df.head()\n"
   ]
  },
  {
   "cell_type": "code",
   "execution_count": null,
   "id": "98c5d41b",
   "metadata": {},
   "outputs": [],
   "source": [
    "# จำนวนภาพทั้งหมด\n",
    "print(f\"Total images: {len(df)}\")\n",
    "\n",
    "# จำนวน ID ทั้งหมด\n",
    "print(f\"Total unique IDs: {df['id'].nunique()}\")\n",
    "\n",
    "# จำนวนภาพต่อ split\n",
    "print(\"\\nImage count per split:\")\n",
    "print(df['split'].value_counts())\n",
    "\n",
    "# วาดกราฟจำนวนภาพต่อ split\n",
    "plt.figure(figsize=(5,3))\n",
    "sns.countplot(data=df, x='split', order=['train', 'val', 'test'])\n",
    "plt.title(\"Image Count per Split\")\n",
    "plt.show()\n"
   ]
  },
  {
   "cell_type": "code",
   "execution_count": null,
   "id": "dbf839f1",
   "metadata": {},
   "outputs": [],
   "source": [
    "# จำนวนภาพต่อ class (label)\n",
    "class_counts = df['id'].value_counts().sort_index()\n",
    "\n",
    "# วาด histogram\n",
    "plt.figure(figsize=(10,4))\n",
    "sns.histplot(class_counts, bins=50, kde=False)\n",
    "plt.xlabel(\"Class ID\")\n",
    "plt.ylabel(\"Number of Images\")\n",
    "plt.title(\"Number of Images per Class\")\n",
    "plt.show()\n"
   ]
  },
  {
   "cell_type": "code",
   "execution_count": null,
   "id": "6a88f6a2",
   "metadata": {},
   "outputs": [],
   "source": [
    "def show_images(df, num_classes=5, images_per_class=3):\n",
    "    sample_classes = random.sample(df['id'].unique().tolist(), num_classes)\n",
    "    fig, axes = plt.subplots(num_classes, images_per_class, figsize=(images_per_class*2, num_classes*2))\n",
    "    for i, cls in enumerate(sample_classes):\n",
    "        samples = df[df['id'] == cls].sample(images_per_class)\n",
    "        for j, path in enumerate(samples['filepath']):\n",
    "            img = Image.open(path).convert(\"L\")\n",
    "            axes[i][j].imshow(img, cmap='gray')\n",
    "            axes[i][j].axis('off')\n",
    "            if j == 0:\n",
    "                axes[i][j].set_title(f\"Class {cls}\")\n",
    "    plt.tight_layout()\n",
    "    plt.show()\n",
    "\n",
    "show_images(df)\n"
   ]
  },
  {
   "cell_type": "code",
   "execution_count": null,
   "id": "cd3c325b",
   "metadata": {},
   "outputs": [],
   "source": [
    "def show_variation(df, class_id=None):\n",
    "    if class_id is None:\n",
    "        class_id = random.choice(df['id'].unique())\n",
    "    same_class_imgs = df[df['id'] == class_id].sample(3)\n",
    "    diff_class_imgs = df[df['id'] != class_id].sample(3)\n",
    "\n",
    "    fig, axes = plt.subplots(2, 3, figsize=(9, 6))\n",
    "    for i, path in enumerate(same_class_imgs['filepath']):\n",
    "        img = Image.open(path).convert(\"L\")\n",
    "        axes[0][i].imshow(img, cmap='gray')\n",
    "        axes[0][i].set_title(f\"Same Class {class_id}\")\n",
    "        axes[0][i].axis('off')\n",
    "\n",
    "    for i, path in enumerate(diff_class_imgs['filepath']):\n",
    "        img = Image.open(path).convert(\"L\")\n",
    "        axes[1][i].imshow(img, cmap='gray')\n",
    "        axes[1][i].set_title(f\"Different Class\")\n",
    "        axes[1][i].axis('off')\n",
    "\n",
    "    plt.tight_layout()\n",
    "    plt.show()\n",
    "\n",
    "show_variation(df)\n"
   ]
  },
  {
   "cell_type": "markdown",
   "id": "8d448ec7",
   "metadata": {},
   "source": [
    "## 🔍 สรุปผลจาก EDA\n",
    "\n",
    "- ข้อมูลจากชุด Enhanced-Combined มีการแบ่งเป็น train / val / test ชัดเจน\n",
    "- จำนวนภาพต่อ ID อยู่ในช่วงคงที่ (เช่น 100 ภาพต่อ ID)\n",
    "- Vein pattern ภายในคลาสมีลักษณะคล้ายกัน\n",
    "- คลาสต่าง ๆ มี variation ชัดเจน เหมาะสำหรับการเรียนรู้ด้วยโมเดล deep learning\n",
    "\n",
    "พร้อมสำหรับนำไปใช้ฝึกโมเดล CNN, ViT, EfficientNet ต่อไป\n"
   ]
  }
 ],
 "metadata": {},
 "nbformat": 4,
 "nbformat_minor": 5
}
